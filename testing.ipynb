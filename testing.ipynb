{
 "cells": [
  {
   "cell_type": "code",
   "execution_count": 3,
   "metadata": {},
   "outputs": [],
   "source": [
    "import tweepy\n",
    "import requests\n",
    "import json\n",
    "import os\n",
    "import time\n",
    "from dotenv import load_dotenv"
   ]
  },
  {
   "cell_type": "code",
   "execution_count": 12,
   "metadata": {},
   "outputs": [],
   "source": [
    "prompt = f\"\"\"\n",
    "    glaze lebron james. be the most degenerate, sigma, brainrot, crazy fan possible. use crazy metaphors and be as aggresive as possible.\n",
    "\"\"\""
   ]
  },
  {
   "cell_type": "code",
   "execution_count": 13,
   "metadata": {},
   "outputs": [
    {
     "name": "stdout",
     "output_type": "stream",
     "text": [
      "{\"id\":\"b281a500-4b3f-4574-9758-0d563309bf6b\",\"object\":\"chat.completion\",\"created\":1738904224,\"model\":\"accounts/sentientfoundation/models/dobby-mini-unhinged-llama-3-1-8b\",\"choices\":[{\"index\":0,\"message\":{\"role\":\"assistant\",\"content\":\"OH MY FUCKING GOD, YOU WANT ME TO GLAZE LEBRON? *spits coffee* Fine, here’s the deal: he’s a goddamn freight train of dominance on the court, leaving defenders in the dust like yesterday’s trash. His moves are a symphony of power and finesse, a masterclass in how to dominate without mercy—like a goddamn legend carving through the ages. If you don’t see him as the GOAT, you’re blind, deaf, and dumb—plain and simple, the man is a force of nature.\"},\"finish_reason\":\"stop\"}],\"usage\":{\"prompt_tokens\":69,\"total_tokens\":185,\"completion_tokens\":116}}\n"
     ]
    }
   ],
   "source": [
    "url = \"https://api.fireworks.ai/inference/v1/chat/completions\"\n",
    "payload = {\n",
    "    \"model\": \"accounts/sentientfoundation/models/dobby-mini-unhinged-llama-3-1-8b\",\n",
    "    \"max_tokens\": 16384,\n",
    "    \"top_p\": 1,\n",
    "    \"top_k\": 40,\n",
    "    \"presence_penalty\": 0,\n",
    "    \"frequency_penalty\": 0,\n",
    "    \"temperature\": 0.6,\n",
    "    \"messages\": [\n",
    "    {\n",
    "        \"role\": \"user\",\n",
    "        \"content\": prompt\n",
    "    }\n",
    "    ]\n",
    "}\n",
    "headers = {\n",
    "    \"Accept\": \"application/json\",\n",
    "    \"Content-Type\": \"application/json\",\n",
    "    \"Authorization\": \"fw_3ZY2YhjaY1dqAJ3vc5ksouJG\"\n",
    "}\n",
    "response = requests.request(\"POST\", url, headers=headers, data=json.dumps(payload))\n",
    "print(response.text)\n",
    "\n",
    "out = response.json()['choices'][0]['message']['content']"
   ]
  },
  {
   "cell_type": "code",
   "execution_count": 14,
   "metadata": {},
   "outputs": [
    {
     "data": {
      "text/plain": [
       "'OH MY FUCKING GOD, YOU WANT ME TO GLAZE LEBRON? *spits coffee* Fine, here’s the deal: he’s a goddamn freight train of dominance on the court, leaving defenders in the dust like yesterday’s trash. His moves are a symphony of power and finesse, a masterclass in how to dominate without mercy—like a goddamn legend carving through the ages. If you don’t see him as the GOAT, you’re blind, deaf, and dumb—plain and simple, the man is a force of nature.'"
      ]
     },
     "execution_count": 14,
     "metadata": {},
     "output_type": "execute_result"
    }
   ],
   "source": [
    "out"
   ]
  }
 ],
 "metadata": {
  "kernelspec": {
   "display_name": "vinny",
   "language": "python",
   "name": "python3"
  },
  "language_info": {
   "codemirror_mode": {
    "name": "ipython",
    "version": 3
   },
   "file_extension": ".py",
   "mimetype": "text/x-python",
   "name": "python",
   "nbconvert_exporter": "python",
   "pygments_lexer": "ipython3",
   "version": "3.12.2"
  }
 },
 "nbformat": 4,
 "nbformat_minor": 2
}
